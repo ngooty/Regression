{
 "cells": [
  {
   "cell_type": "markdown",
   "metadata": {},
   "source": [
    "# Linear Regression Demo - Large Dataset"
   ]
  },
  {
   "cell_type": "markdown",
   "metadata": {},
   "source": [
    "## Import Libraries"
   ]
  },
  {
   "cell_type": "code",
   "execution_count": 1,
   "metadata": {},
   "outputs": [
    {
     "data": {
      "text/plain": [
       "'/Users/Edureka/Python'"
      ]
     },
     "execution_count": 1,
     "metadata": {},
     "output_type": "execute_result"
    }
   ],
   "source": [
    "import pandas as pd\n",
    "import numpy as np\n",
    "import matplotlib.pyplot as plt\n",
    "import seaborn as sns\n",
    "import os\n",
    "from sklearn.model_selection import train_test_split\n",
    "from sklearn.preprocessing import StandardScaler\n",
    "from sklearn.preprocessing import LabelEncoder\n",
    "from sklearn.linear_model import LinearRegression\n",
    "from sklearn.metrics import mean_squared_error,r2_score\n",
    "from sklearn.impute import SimpleImputer\n",
    "%matplotlib inline\n",
    "os.getcwd()"
   ]
  },
  {
   "cell_type": "markdown",
   "metadata": {},
   "source": [
    "## Import Dataset"
   ]
  },
  {
   "cell_type": "code",
   "execution_count": 2,
   "metadata": {},
   "outputs": [],
   "source": [
    "cars=pd.read_csv('../cars.csv')"
   ]
  },
  {
   "cell_type": "markdown",
   "metadata": {},
   "source": [
    "## Exploratory Data Analysis"
   ]
  },
  {
   "cell_type": "code",
   "execution_count": 27,
   "metadata": {},
   "outputs": [
    {
     "name": "stdout",
     "output_type": "stream",
     "text": [
      "<class 'pandas.core.frame.DataFrame'>\n",
      "RangeIndex: 11914 entries, 0 to 11913\n",
      "Data columns (total 16 columns):\n",
      "Make                 11914 non-null object\n",
      "Model                11914 non-null object\n",
      "Year                 11914 non-null int64\n",
      "Engine Fuel Type     11911 non-null object\n",
      "Engine HP            11845 non-null float64\n",
      "Engine Cylinders     11884 non-null float64\n",
      "Transmission Type    11914 non-null object\n",
      "Driven_Wheels        11914 non-null object\n",
      "Number of Doors      11908 non-null float64\n",
      "Market Category      8172 non-null object\n",
      "Vehicle Size         11914 non-null object\n",
      "Vehicle Style        11914 non-null object\n",
      "highway MPG          11914 non-null int64\n",
      "city mpg             11914 non-null int64\n",
      "Popularity           11914 non-null int64\n",
      "MSRP                 11914 non-null int64\n",
      "dtypes: float64(3), int64(5), object(8)\n",
      "memory usage: 1.5+ MB\n"
     ]
    }
   ],
   "source": [
    "cars.info()"
   ]
  },
  {
   "cell_type": "code",
   "execution_count": 4,
   "metadata": {},
   "outputs": [
    {
     "data": {
      "text/html": [
       "<div>\n",
       "<style scoped>\n",
       "    .dataframe tbody tr th:only-of-type {\n",
       "        vertical-align: middle;\n",
       "    }\n",
       "\n",
       "    .dataframe tbody tr th {\n",
       "        vertical-align: top;\n",
       "    }\n",
       "\n",
       "    .dataframe thead th {\n",
       "        text-align: right;\n",
       "    }\n",
       "</style>\n",
       "<table border=\"1\" class=\"dataframe\">\n",
       "  <thead>\n",
       "    <tr style=\"text-align: right;\">\n",
       "      <th></th>\n",
       "      <th>Year</th>\n",
       "      <th>Engine HP</th>\n",
       "      <th>Engine Cylinders</th>\n",
       "      <th>Number of Doors</th>\n",
       "      <th>highway MPG</th>\n",
       "      <th>city mpg</th>\n",
       "      <th>Popularity</th>\n",
       "      <th>MSRP</th>\n",
       "    </tr>\n",
       "  </thead>\n",
       "  <tbody>\n",
       "    <tr>\n",
       "      <th>count</th>\n",
       "      <td>11914.000000</td>\n",
       "      <td>11845.00000</td>\n",
       "      <td>11884.000000</td>\n",
       "      <td>11908.000000</td>\n",
       "      <td>11914.000000</td>\n",
       "      <td>11914.000000</td>\n",
       "      <td>11914.000000</td>\n",
       "      <td>1.191400e+04</td>\n",
       "    </tr>\n",
       "    <tr>\n",
       "      <th>mean</th>\n",
       "      <td>2010.384338</td>\n",
       "      <td>249.38607</td>\n",
       "      <td>5.628829</td>\n",
       "      <td>3.436093</td>\n",
       "      <td>26.637485</td>\n",
       "      <td>19.733255</td>\n",
       "      <td>1554.911197</td>\n",
       "      <td>4.059474e+04</td>\n",
       "    </tr>\n",
       "    <tr>\n",
       "      <th>std</th>\n",
       "      <td>7.579740</td>\n",
       "      <td>109.19187</td>\n",
       "      <td>1.780559</td>\n",
       "      <td>0.881315</td>\n",
       "      <td>8.863001</td>\n",
       "      <td>8.987798</td>\n",
       "      <td>1441.855347</td>\n",
       "      <td>6.010910e+04</td>\n",
       "    </tr>\n",
       "    <tr>\n",
       "      <th>min</th>\n",
       "      <td>1990.000000</td>\n",
       "      <td>55.00000</td>\n",
       "      <td>0.000000</td>\n",
       "      <td>2.000000</td>\n",
       "      <td>12.000000</td>\n",
       "      <td>7.000000</td>\n",
       "      <td>2.000000</td>\n",
       "      <td>2.000000e+03</td>\n",
       "    </tr>\n",
       "    <tr>\n",
       "      <th>25%</th>\n",
       "      <td>2007.000000</td>\n",
       "      <td>170.00000</td>\n",
       "      <td>4.000000</td>\n",
       "      <td>2.000000</td>\n",
       "      <td>22.000000</td>\n",
       "      <td>16.000000</td>\n",
       "      <td>549.000000</td>\n",
       "      <td>2.100000e+04</td>\n",
       "    </tr>\n",
       "    <tr>\n",
       "      <th>50%</th>\n",
       "      <td>2015.000000</td>\n",
       "      <td>227.00000</td>\n",
       "      <td>6.000000</td>\n",
       "      <td>4.000000</td>\n",
       "      <td>26.000000</td>\n",
       "      <td>18.000000</td>\n",
       "      <td>1385.000000</td>\n",
       "      <td>2.999500e+04</td>\n",
       "    </tr>\n",
       "    <tr>\n",
       "      <th>75%</th>\n",
       "      <td>2016.000000</td>\n",
       "      <td>300.00000</td>\n",
       "      <td>6.000000</td>\n",
       "      <td>4.000000</td>\n",
       "      <td>30.000000</td>\n",
       "      <td>22.000000</td>\n",
       "      <td>2009.000000</td>\n",
       "      <td>4.223125e+04</td>\n",
       "    </tr>\n",
       "    <tr>\n",
       "      <th>max</th>\n",
       "      <td>2017.000000</td>\n",
       "      <td>1001.00000</td>\n",
       "      <td>16.000000</td>\n",
       "      <td>4.000000</td>\n",
       "      <td>354.000000</td>\n",
       "      <td>137.000000</td>\n",
       "      <td>5657.000000</td>\n",
       "      <td>2.065902e+06</td>\n",
       "    </tr>\n",
       "  </tbody>\n",
       "</table>\n",
       "</div>"
      ],
      "text/plain": [
       "               Year    Engine HP  Engine Cylinders  Number of Doors  \\\n",
       "count  11914.000000  11845.00000      11884.000000     11908.000000   \n",
       "mean    2010.384338    249.38607          5.628829         3.436093   \n",
       "std        7.579740    109.19187          1.780559         0.881315   \n",
       "min     1990.000000     55.00000          0.000000         2.000000   \n",
       "25%     2007.000000    170.00000          4.000000         2.000000   \n",
       "50%     2015.000000    227.00000          6.000000         4.000000   \n",
       "75%     2016.000000    300.00000          6.000000         4.000000   \n",
       "max     2017.000000   1001.00000         16.000000         4.000000   \n",
       "\n",
       "        highway MPG      city mpg    Popularity          MSRP  \n",
       "count  11914.000000  11914.000000  11914.000000  1.191400e+04  \n",
       "mean      26.637485     19.733255   1554.911197  4.059474e+04  \n",
       "std        8.863001      8.987798   1441.855347  6.010910e+04  \n",
       "min       12.000000      7.000000      2.000000  2.000000e+03  \n",
       "25%       22.000000     16.000000    549.000000  2.100000e+04  \n",
       "50%       26.000000     18.000000   1385.000000  2.999500e+04  \n",
       "75%       30.000000     22.000000   2009.000000  4.223125e+04  \n",
       "max      354.000000    137.000000   5657.000000  2.065902e+06  "
      ]
     },
     "execution_count": 4,
     "metadata": {},
     "output_type": "execute_result"
    }
   ],
   "source": [
    "cars.describe()"
   ]
  },
  {
   "cell_type": "code",
   "execution_count": 5,
   "metadata": {},
   "outputs": [
    {
     "data": {
      "text/plain": [
       "<matplotlib.axes._subplots.AxesSubplot at 0x106723690>"
      ]
     },
     "execution_count": 5,
     "metadata": {},
     "output_type": "execute_result"
    },
    {
     "data": {
      "image/png": "[encoded data removed]",
      "text/plain": [
       "<Figure size 432x288 with 1 Axes>"
      ]
     },
     "metadata": {
      "needs_background": "light"
     },
     "output_type": "display_data"
    }
   ],
   "source": [
    "sns.boxplot(x='Make',y='MSRP',hue='Year',data=cars)"
   ]
  },
  {
   "cell_type": "code",
   "execution_count": 6,
   "metadata": {},
   "outputs": [
    {
     "data": {
      "image/png": "[encoded data removed]",
      "text/plain": [
       "<Figure size 432x288 with 1 Axes>"
      ]
     },
     "metadata": {
      "needs_background": "light"
     },
     "output_type": "display_data"
    }
   ],
   "source": [
    "sns.regplot(x='Year',y='MSRP',data=cars)\n",
    "plt.show()"
   ]
  },
  {
   "cell_type": "code",
   "execution_count": 7,
   "metadata": {},
   "outputs": [
    {
     "data": {
      "text/plain": [
       "<seaborn.axisgrid.FacetGrid at 0x125bb6d90>"
      ]
     },
     "execution_count": 7,
     "metadata": {},
     "output_type": "execute_result"
    },
    {
     "data": {
      "image/png": "[encoded data removed]",
      "text/plain": [
       "<Figure size 10368x216 with 48 Axes>"
      ]
     },
     "metadata": {
      "needs_background": "light"
     },
     "output_type": "display_data"
    }
   ],
   "source": [
    "fig=sns.FacetGrid(cars,col='Make')\n",
    "fig.map(plt.hist,'MSRP')"
   ]
  },
  {
   "cell_type": "code",
   "execution_count": 8,
   "metadata": {},
   "outputs": [
    {
     "data": {
      "text/plain": [
       "Engine Fuel Type     object\n",
       "Engine HP           float64\n",
       "Engine Cylinders    float64\n",
       "Number of Doors     float64\n",
       "Market Category      object\n",
       "dtype: object"
      ]
     },
     "execution_count": 8,
     "metadata": {},
     "output_type": "execute_result"
    }
   ],
   "source": [
    "null_list=cars.isnull().sum()\n",
    "#cars.columns[cars.isnull().any()]\n",
    "null_cols=cars.columns[null_list>0]\n",
    "cars[null_cols].dtypes"
   ]
  },
  {
   "cell_type": "markdown",
   "metadata": {},
   "source": [
    "## Impute Null Values using Simple Imputer"
   ]
  },
  {
   "cell_type": "code",
   "execution_count": 3,
   "metadata": {},
   "outputs": [
    {
     "data": {
      "text/plain": [
       "Make                 0\n",
       "Model                0\n",
       "Year                 0\n",
       "Engine Fuel Type     0\n",
       "Engine HP            0\n",
       "Engine Cylinders     0\n",
       "Transmission Type    0\n",
       "Driven_Wheels        0\n",
       "Number of Doors      0\n",
       "Market Category      0\n",
       "Vehicle Size         0\n",
       "Vehicle Style        0\n",
       "highway MPG          0\n",
       "city mpg             0\n",
       "Popularity           0\n",
       "MSRP                 0\n",
       "dtype: int64"
      ]
     },
     "execution_count": 3,
     "metadata": {},
     "output_type": "execute_result"
    }
   ],
   "source": [
    "imputer=SimpleImputer(missing_values=np.nan,strategy='most_frequent')\n",
    "cols=cars.columns\n",
    "cars.iloc[:,[3,4,5,8,9]]=imputer.fit_transform(cars.iloc[:,[3,4,5,8,9]])\n",
    "cars.isnull().sum()"
   ]
  },
  {
   "cell_type": "markdown",
   "metadata": {},
   "source": [
    "## Convert Categorical Columns to Numeric"
   ]
  },
  {
   "cell_type": "markdown",
   "metadata": {},
   "source": [
    "### Get Dummies "
   ]
  },
  {
   "cell_type": "code",
   "execution_count": 10,
   "metadata": {},
   "outputs": [],
   "source": [
    "processed_data=pd.get_dummies(cars)"
   ]
  },
  {
   "cell_type": "markdown",
   "metadata": {},
   "source": [
    "### Label Encoder"
   ]
  },
  {
   "cell_type": "code",
   "execution_count": null,
   "metadata": {},
   "outputs": [],
   "source": [
    "le=LabelEncoder()\n",
    "qualitative=[c for c in cars.columns if cars.dtypes[c]=='object']\n",
    "le_sex=LabelEncoder()\n",
    "le_smoker=LabelEncoder()\n",
    "le_region=LabelEncoder()\n",
    "insurance[qualitative[0]]=le_sex.fit_transform(insurance[qualitative[0]])\n",
    "insurance[qualitative[1]]=le_sex.fit_transform(insurance[qualitative[1]])\n",
    "insurance[qualitative[2]]=le_sex.fit_transform(insurance[qualitative[2]])\n",
    "insurance.head()"
   ]
  },
  {
   "cell_type": "code",
   "execution_count": 4,
   "metadata": {},
   "outputs": [],
   "source": [
    "def encoder(df):\n",
    "    for i in range(len(df)):\n",
    "        print(i)\n",
    "        le=LabelEncoder()\n",
    "        #df[cat_var[i]]=le.fit_transform(df[cat_var[i]])\n",
    "        df[i]=le.fit_transform(df[i])\n",
    "        print('after df')\n",
    "    #return "
   ]
  },
  {
   "cell_type": "code",
   "execution_count": null,
   "metadata": {},
   "outputs": [],
   "source": [
    "qualitative=[c for c in cars.columns if cars.dtypes[c]=='object']\n",
    "#cars[qualitative].apply(encoder)\n",
    "#df.apply(lambda x: d[x.name].transform(x))\n",
    "cars[qualitative]=cars[qualitative].apply(lambda x: LabelEncoder().fit_transform(x))\n"
   ]
  },
  {
   "cell_type": "code",
   "execution_count": 14,
   "metadata": {},
   "outputs": [
    {
     "name": "stdout",
     "output_type": "stream",
     "text": [
      "<class 'pandas.core.frame.DataFrame'>\n",
      "RangeIndex: 11914 entries, 0 to 11913\n",
      "Data columns (total 16 columns):\n",
      "Make                 11914 non-null int64\n",
      "Model                11914 non-null int64\n",
      "Year                 11914 non-null int64\n",
      "Engine Fuel Type     11914 non-null int64\n",
      "Engine HP            11914 non-null float64\n",
      "Engine Cylinders     11914 non-null float64\n",
      "Transmission Type    11914 non-null int64\n",
      "Driven_Wheels        11914 non-null int64\n",
      "Number of Doors      11914 non-null float64\n",
      "Market Category      11914 non-null int64\n",
      "Vehicle Size         11914 non-null int64\n",
      "Vehicle Style        11914 non-null int64\n",
      "highway MPG          11914 non-null int64\n",
      "city mpg             11914 non-null int64\n",
      "Popularity           11914 non-null int64\n",
      "MSRP                 11914 non-null int64\n",
      "dtypes: float64(3), int64(13)\n",
      "memory usage: 1.5 MB\n"
     ]
    }
   ],
   "source": [
    "cars.info()"
   ]
  },
  {
   "cell_type": "code",
   "execution_count": 16,
   "metadata": {},
   "outputs": [
    {
     "data": {
      "text/plain": [
       "array([ 4,  3, 12, 31, 10, 33, 47, 29, 32, 13,  1, 45, 30, 28, 36, 37, 39,\n",
       "       15, 19, 35, 18, 34, 43, 14,  8, 21,  5,  9, 11, 22, 25, 42, 46, 41,\n",
       "        7,  0, 38, 27, 24,  2, 23, 26, 20, 40, 16, 17, 44,  6])"
      ]
     },
     "execution_count": 16,
     "metadata": {},
     "output_type": "execute_result"
    }
   ],
   "source": [
    "cars.Make.unique()\n",
    "#cars.Model.unique()"
   ]
  },
  {
   "cell_type": "markdown",
   "metadata": {},
   "source": [
    "# cars_to_encode.info()"
   ]
  },
  {
   "cell_type": "code",
   "execution_count": 11,
   "metadata": {},
   "outputs": [
    {
     "data": {
      "text/html": [
       "<div>\n",
       "<style scoped>\n",
       "    .dataframe tbody tr th:only-of-type {\n",
       "        vertical-align: middle;\n",
       "    }\n",
       "\n",
       "    .dataframe tbody tr th {\n",
       "        vertical-align: top;\n",
       "    }\n",
       "\n",
       "    .dataframe thead th {\n",
       "        text-align: right;\n",
       "    }\n",
       "</style>\n",
       "<table border=\"1\" class=\"dataframe\">\n",
       "  <thead>\n",
       "    <tr style=\"text-align: right;\">\n",
       "      <th></th>\n",
       "      <th>Make</th>\n",
       "      <th>Model</th>\n",
       "      <th>Year</th>\n",
       "      <th>Engine Fuel Type</th>\n",
       "      <th>Engine HP</th>\n",
       "      <th>Engine Cylinders</th>\n",
       "      <th>Transmission Type</th>\n",
       "      <th>Driven_Wheels</th>\n",
       "      <th>Number of Doors</th>\n",
       "      <th>Market Category</th>\n",
       "      <th>Vehicle Size</th>\n",
       "      <th>Vehicle Style</th>\n",
       "      <th>highway MPG</th>\n",
       "      <th>city mpg</th>\n",
       "      <th>Popularity</th>\n",
       "      <th>MSRP</th>\n",
       "    </tr>\n",
       "  </thead>\n",
       "  <tbody>\n",
       "    <tr>\n",
       "      <th>count</th>\n",
       "      <td>11914.000000</td>\n",
       "      <td>11914.000000</td>\n",
       "      <td>11914.000000</td>\n",
       "      <td>11914.000000</td>\n",
       "      <td>11914.000000</td>\n",
       "      <td>11914.000000</td>\n",
       "      <td>11914.000000</td>\n",
       "      <td>11914.000000</td>\n",
       "      <td>11914.000000</td>\n",
       "      <td>11914.000000</td>\n",
       "      <td>11914.000000</td>\n",
       "      <td>11914.000000</td>\n",
       "      <td>11914.000000</td>\n",
       "      <td>11914.000000</td>\n",
       "      <td>11914.000000</td>\n",
       "      <td>1.191400e+04</td>\n",
       "    </tr>\n",
       "    <tr>\n",
       "      <th>mean</th>\n",
       "      <td>23.227463</td>\n",
       "      <td>460.337082</td>\n",
       "      <td>2010.384338</td>\n",
       "      <td>7.992782</td>\n",
       "      <td>249.100050</td>\n",
       "      <td>5.624727</td>\n",
       "      <td>1.450646</td>\n",
       "      <td>1.770186</td>\n",
       "      <td>3.436377</td>\n",
       "      <td>28.607437</td>\n",
       "      <td>0.967181</td>\n",
       "      <td>8.355212</td>\n",
       "      <td>26.637485</td>\n",
       "      <td>19.733255</td>\n",
       "      <td>1554.911197</td>\n",
       "      <td>4.059474e+04</td>\n",
       "    </tr>\n",
       "    <tr>\n",
       "      <th>std</th>\n",
       "      <td>14.545781</td>\n",
       "      <td>269.285747</td>\n",
       "      <td>7.579740</td>\n",
       "      <td>1.798163</td>\n",
       "      <td>108.939672</td>\n",
       "      <td>1.780189</td>\n",
       "      <td>0.924656</td>\n",
       "      <td>1.066762</td>\n",
       "      <td>0.881184</td>\n",
       "      <td>27.438468</td>\n",
       "      <td>0.875157</td>\n",
       "      <td>4.915271</td>\n",
       "      <td>8.863001</td>\n",
       "      <td>8.987798</td>\n",
       "      <td>1441.855347</td>\n",
       "      <td>6.010910e+04</td>\n",
       "    </tr>\n",
       "    <tr>\n",
       "      <th>min</th>\n",
       "      <td>0.000000</td>\n",
       "      <td>0.000000</td>\n",
       "      <td>1990.000000</td>\n",
       "      <td>0.000000</td>\n",
       "      <td>55.000000</td>\n",
       "      <td>0.000000</td>\n",
       "      <td>0.000000</td>\n",
       "      <td>0.000000</td>\n",
       "      <td>2.000000</td>\n",
       "      <td>0.000000</td>\n",
       "      <td>0.000000</td>\n",
       "      <td>0.000000</td>\n",
       "      <td>12.000000</td>\n",
       "      <td>7.000000</td>\n",
       "      <td>2.000000</td>\n",
       "      <td>2.000000e+03</td>\n",
       "    </tr>\n",
       "    <tr>\n",
       "      <th>25%</th>\n",
       "      <td>10.000000</td>\n",
       "      <td>219.000000</td>\n",
       "      <td>2007.000000</td>\n",
       "      <td>8.000000</td>\n",
       "      <td>170.000000</td>\n",
       "      <td>4.000000</td>\n",
       "      <td>1.000000</td>\n",
       "      <td>1.000000</td>\n",
       "      <td>2.000000</td>\n",
       "      <td>0.000000</td>\n",
       "      <td>0.000000</td>\n",
       "      <td>3.000000</td>\n",
       "      <td>22.000000</td>\n",
       "      <td>16.000000</td>\n",
       "      <td>549.000000</td>\n",
       "      <td>2.100000e+04</td>\n",
       "    </tr>\n",
       "    <tr>\n",
       "      <th>50%</th>\n",
       "      <td>20.000000</td>\n",
       "      <td>457.000000</td>\n",
       "      <td>2015.000000</td>\n",
       "      <td>9.000000</td>\n",
       "      <td>225.000000</td>\n",
       "      <td>6.000000</td>\n",
       "      <td>1.000000</td>\n",
       "      <td>2.000000</td>\n",
       "      <td>4.000000</td>\n",
       "      <td>26.000000</td>\n",
       "      <td>1.000000</td>\n",
       "      <td>8.000000</td>\n",
       "      <td>26.000000</td>\n",
       "      <td>18.000000</td>\n",
       "      <td>1385.000000</td>\n",
       "      <td>2.999500e+04</td>\n",
       "    </tr>\n",
       "    <tr>\n",
       "      <th>75%</th>\n",
       "      <td>36.000000</td>\n",
       "      <td>711.000000</td>\n",
       "      <td>2016.000000</td>\n",
       "      <td>9.000000</td>\n",
       "      <td>300.000000</td>\n",
       "      <td>6.000000</td>\n",
       "      <td>2.000000</td>\n",
       "      <td>3.000000</td>\n",
       "      <td>4.000000</td>\n",
       "      <td>60.000000</td>\n",
       "      <td>2.000000</td>\n",
       "      <td>14.000000</td>\n",
       "      <td>30.000000</td>\n",
       "      <td>22.000000</td>\n",
       "      <td>2009.000000</td>\n",
       "      <td>4.223125e+04</td>\n",
       "    </tr>\n",
       "    <tr>\n",
       "      <th>max</th>\n",
       "      <td>47.000000</td>\n",
       "      <td>914.000000</td>\n",
       "      <td>2017.000000</td>\n",
       "      <td>9.000000</td>\n",
       "      <td>1001.000000</td>\n",
       "      <td>16.000000</td>\n",
       "      <td>4.000000</td>\n",
       "      <td>3.000000</td>\n",
       "      <td>4.000000</td>\n",
       "      <td>70.000000</td>\n",
       "      <td>2.000000</td>\n",
       "      <td>15.000000</td>\n",
       "      <td>354.000000</td>\n",
       "      <td>137.000000</td>\n",
       "      <td>5657.000000</td>\n",
       "      <td>2.065902e+06</td>\n",
       "    </tr>\n",
       "  </tbody>\n",
       "</table>\n",
       "</div>"
      ],
      "text/plain": [
       "               Make         Model          Year  Engine Fuel Type  \\\n",
       "count  11914.000000  11914.000000  11914.000000      11914.000000   \n",
       "mean      23.227463    460.337082   2010.384338          7.992782   \n",
       "std       14.545781    269.285747      7.579740          1.798163   \n",
       "min        0.000000      0.000000   1990.000000          0.000000   \n",
       "25%       10.000000    219.000000   2007.000000          8.000000   \n",
       "50%       20.000000    457.000000   2015.000000          9.000000   \n",
       "75%       36.000000    711.000000   2016.000000          9.000000   \n",
       "max       47.000000    914.000000   2017.000000          9.000000   \n",
       "\n",
       "          Engine HP  Engine Cylinders  Transmission Type  Driven_Wheels  \\\n",
       "count  11914.000000      11914.000000       11914.000000   11914.000000   \n",
       "mean     249.100050          5.624727           1.450646       1.770186   \n",
       "std      108.939672          1.780189           0.924656       1.066762   \n",
       "min       55.000000          0.000000           0.000000       0.000000   \n",
       "25%      170.000000          4.000000           1.000000       1.000000   \n",
       "50%      225.000000          6.000000           1.000000       2.000000   \n",
       "75%      300.000000          6.000000           2.000000       3.000000   \n",
       "max     1001.000000         16.000000           4.000000       3.000000   \n",
       "\n",
       "       Number of Doors  Market Category  Vehicle Size  Vehicle Style  \\\n",
       "count     11914.000000     11914.000000  11914.000000   11914.000000   \n",
       "mean          3.436377        28.607437      0.967181       8.355212   \n",
       "std           0.881184        27.438468      0.875157       4.915271   \n",
       "min           2.000000         0.000000      0.000000       0.000000   \n",
       "25%           2.000000         0.000000      0.000000       3.000000   \n",
       "50%           4.000000        26.000000      1.000000       8.000000   \n",
       "75%           4.000000        60.000000      2.000000      14.000000   \n",
       "max           4.000000        70.000000      2.000000      15.000000   \n",
       "\n",
       "        highway MPG      city mpg    Popularity          MSRP  \n",
       "count  11914.000000  11914.000000  11914.000000  1.191400e+04  \n",
       "mean      26.637485     19.733255   1554.911197  4.059474e+04  \n",
       "std        8.863001      8.987798   1441.855347  6.010910e+04  \n",
       "min       12.000000      7.000000      2.000000  2.000000e+03  \n",
       "25%       22.000000     16.000000    549.000000  2.100000e+04  \n",
       "50%       26.000000     18.000000   1385.000000  2.999500e+04  \n",
       "75%       30.000000     22.000000   2009.000000  4.223125e+04  \n",
       "max      354.000000    137.000000   5657.000000  2.065902e+06  "
      ]
     },
     "execution_count": 11,
     "metadata": {},
     "output_type": "execute_result"
    }
   ],
   "source": [
    "cars.describe()"
   ]
  },
  {
   "cell_type": "markdown",
   "metadata": {},
   "source": [
    "## Split the target and predictors to y and x variables"
   ]
  },
  {
   "cell_type": "code",
   "execution_count": 20,
   "metadata": {},
   "outputs": [],
   "source": [
    "# This has to run after Scaling function is done. \n",
    "\n",
    "target=scaled_df['MSRP']\n",
    "features=scaled_df.drop('MSRP',axis=1)"
   ]
  },
  {
   "cell_type": "markdown",
   "metadata": {},
   "source": [
    "### Scaler  - Standard Scaler used here to scale the data"
   ]
  },
  {
   "cell_type": "code",
   "execution_count": 18,
   "metadata": {},
   "outputs": [],
   "source": [
    "# This has to run before spliting target and features\n",
    "scaler=StandardScaler()\n",
    "x=scaler.fit_transform(cars)\n",
    "scaled_df=pd.DataFrame(x,columns=cars.columns)"
   ]
  },
  {
   "cell_type": "markdown",
   "metadata": {},
   "source": [
    "### Split the processed dataset into train and test datasets"
   ]
  },
  {
   "cell_type": "code",
   "execution_count": 21,
   "metadata": {},
   "outputs": [],
   "source": [
    "\n",
    "xtrain,xtest,ytrain,ytest=train_test_split(features,target,random_state=1,test_size=0.30)"
   ]
  },
  {
   "cell_type": "code",
   "execution_count": 22,
   "metadata": {},
   "outputs": [
    {
     "data": {
      "text/plain": [
       "((8339, 15), (8339,), (3575, 15), (3575,))"
      ]
     },
     "execution_count": 22,
     "metadata": {},
     "output_type": "execute_result"
    }
   ],
   "source": [
    "xtrain.shape,ytrain.shape,xtest.shape,ytest.shape"
   ]
  },
  {
   "cell_type": "markdown",
   "metadata": {},
   "source": [
    "## Instantiate Linear Regression Model"
   ]
  },
  {
   "cell_type": "code",
   "execution_count": 23,
   "metadata": {},
   "outputs": [],
   "source": [
    "lm=LinearRegression()"
   ]
  },
  {
   "cell_type": "markdown",
   "metadata": {},
   "source": [
    "### Create the Linear Regression Model"
   ]
  },
  {
   "cell_type": "code",
   "execution_count": 44,
   "metadata": {},
   "outputs": [
    {
     "name": "stdout",
     "output_type": "stream",
     "text": [
      "R Squared Value :  0.49175477108492976\n",
      "Coefficient/Slope/M Value : [ 0.01886565 -0.04120837  0.0112393   0.03208814  0.59454913  0.21855848\n",
      " -0.06150357 -0.04304669 -0.08109997 -0.07425239 -0.10909755  0.01310029\n",
      "  0.11032839  0.08306674 -0.07916074]\n",
      "Intercept Value : 0.0015422240046553746\n"
     ]
    }
   ],
   "source": [
    "model=lm.fit(xtrain,ytrain)\n",
    "print('R Squared Value : ',model1.score(xtrain,ytrain))\n",
    "print('Coefficient/Slope/M Value :',model1.coef_)\n",
    "print('Intercept Value :',model1.intercept_)"
   ]
  },
  {
   "cell_type": "markdown",
   "metadata": {},
   "source": [
    "## Predict the model with test dataset"
   ]
  },
  {
   "cell_type": "code",
   "execution_count": 25,
   "metadata": {},
   "outputs": [],
   "source": [
    "result=model.predict(xtest)"
   ]
  },
  {
   "cell_type": "markdown",
   "metadata": {},
   "source": [
    "## Check Accuracy for the model"
   ]
  },
  {
   "cell_type": "code",
   "execution_count": 26,
   "metadata": {},
   "outputs": [
    {
     "name": "stdout",
     "output_type": "stream",
     "text": [
      "0.7213541530583613\n",
      "0.4750981102816364\n"
     ]
    }
   ],
   "source": [
    "mse=mean_squared_error(result, ytest)\n",
    "rmse = np.sqrt(mse)\n",
    "print(rmse)\n",
    "print(r2_score(ytest,result))"
   ]
  },
  {
   "cell_type": "markdown",
   "metadata": {},
   "source": [
    "## Without Scaler"
   ]
  },
  {
   "cell_type": "code",
   "execution_count": 28,
   "metadata": {},
   "outputs": [],
   "source": [
    "test=cars['MSRP']\n",
    "train=cars.drop('MSRP',axis=1)"
   ]
  },
  {
   "cell_type": "code",
   "execution_count": 29,
   "metadata": {},
   "outputs": [],
   "source": [
    "xtrain1,xtest1,ytrain1,ytest1=train_test_split(train,test,test_size=0.3,random_state=3)"
   ]
  },
  {
   "cell_type": "code",
   "execution_count": 30,
   "metadata": {},
   "outputs": [
    {
     "data": {
      "text/plain": [
       "((8339, 15), (8339,))"
      ]
     },
     "execution_count": 30,
     "metadata": {},
     "output_type": "execute_result"
    }
   ],
   "source": [
    "xtrain1.shape,ytrain1.shape"
   ]
  },
  {
   "cell_type": "code",
   "execution_count": 43,
   "metadata": {},
   "outputs": [
    {
     "name": "stdout",
     "output_type": "stream",
     "text": [
      "R Squared Value :  -15760653429.151995\n",
      "Coefficient/Slope/M Value : [ 1.07244058e+02 -8.58302262e+00 -1.00272418e+02  1.04528720e+03\n",
      "  3.46660893e+02  6.96153559e+03 -4.90483545e+03 -3.25030318e+03\n",
      " -5.56565595e+03 -1.65827495e+02 -8.05811953e+03  2.04544799e+02\n",
      "  7.82655668e+02  6.10551770e+02 -3.35051080e+00]\n",
      "Intercept Value : 125168.21807345445\n"
     ]
    }
   ],
   "source": [
    "model1=lm.fit(xtrain1,ytrain1)\n",
    "print('R Squared Value : ',model1.score(xtrain,ytrain))\n",
    "print('Coefficient/Slope/M Value :',model1.coef_)\n",
    "print('Intercept Value :',model1.intercept_)"
   ]
  },
  {
   "cell_type": "code",
   "execution_count": 45,
   "metadata": {},
   "outputs": [],
   "source": [
    "result1=model.predict(xtest1)\n"
   ]
  },
  {
   "cell_type": "code",
   "execution_count": 46,
   "metadata": {},
   "outputs": [
    {
     "name": "stdout",
     "output_type": "stream",
     "text": [
      "64451.56098854801\n",
      "-0.6415004719072006\n"
     ]
    }
   ],
   "source": [
    "mse1=mean_squared_error(result1, ytest1)\n",
    "rmse1 = np.sqrt(mse1)\n",
    "print(rmse1)\n",
    "print(r2_score(ytest1,result1))"
   ]
  },
  {
   "cell_type": "code",
   "execution_count": 38,
   "metadata": {},
   "outputs": [
    {
     "data": {
      "text/plain": [
       "<seaborn.axisgrid.FacetGrid at 0x125363710>"
      ]
     },
     "execution_count": 38,
     "metadata": {},
     "output_type": "execute_result"
    },
    {
     "data": {
      "image/png": "[encoded data removed]",
      "text/plain": [
       "<Figure size 360x360 with 1 Axes>"
      ]
     },
     "metadata": {
      "needs_background": "light"
     },
     "output_type": "display_data"
    },
    {
     "data": {
      "image/png": "[encoded data removed]",
      "text/plain": [
       "<Figure size 360x360 with 1 Axes>"
      ]
     },
     "metadata": {
      "needs_background": "light"
     },
     "output_type": "display_data"
    }
   ],
   "source": [
    "df=pd.DataFrame({'Actual':ytest,'Predicted':result})\n",
    "\n",
    "df1=pd.DataFrame({'Actual1':ytest1,'Predicted1':result1})\n",
    "sns.lmplot(x='Actual',y='Predicted',data=df,scatter_kws={\"color\": \"blue\"}, line_kws={\"color\": \"red\"})\n",
    "sns.lmplot(x='Actual1',y='Predicted1',data=df1,scatter_kws={\"color\": \"purple\"}, line_kws={\"color\": \"pink\"})"
   ]
  },
  {
   "cell_type": "code",
   "execution_count": null,
   "metadata": {},
   "outputs": [],
   "source": []
  }
 ],
 "metadata": {
  "kernelspec": {
   "display_name": "Python 3",
   "language": "python",
   "name": "python3"
  },
  "language_info": {
   "codemirror_mode": {
    "name": "ipython",
    "version": 3
   },
   "file_extension": ".py",
   "mimetype": "text/x-python",
   "name": "python",
   "nbconvert_exporter": "python",
   "pygments_lexer": "ipython3",
   "version": "3.7.4"
  }
 },
 "nbformat": 4,
 "nbformat_minor": 4
}
